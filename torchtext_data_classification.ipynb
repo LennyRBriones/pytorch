{
  "cells": [
    {
      "cell_type": "markdown",
      "metadata": {
        "id": "view-in-github",
        "colab_type": "text"
      },
      "source": [
        "<a href=\"https://colab.research.google.com/github/LennyRBriones/pytorch/blob/main/torchtext_data_classification.ipynb\" target=\"_parent\"><img src=\"https://colab.research.google.com/assets/colab-badge.svg\" alt=\"Open In Colab\"/></a>"
      ]
    },
    {
      "cell_type": "markdown",
      "source": [
        "# Text Classification with Pytorch"
      ],
      "metadata": {
        "id": "XwlJikR8L_-Y"
      }
    },
    {
      "cell_type": "markdown",
      "metadata": {
        "id": "CVLScX7JIZ_i"
      },
      "source": [
        "## Library & dataset\n"
      ]
    },
    {
      "cell_type": "code",
      "execution_count": 25,
      "metadata": {
        "id": "Sl1w13qpH7Zd"
      },
      "outputs": [],
      "source": [
        "%%capture\n",
        "!pip install portalocker>=2.0.0\n",
        "!pip install torchtext --updgrade"
      ]
    },
    {
      "cell_type": "code",
      "execution_count": 26,
      "metadata": {
        "colab": {
          "base_uri": "https://localhost:8080/",
          "height": 35
        },
        "id": "mzyLwyQGI6bH",
        "outputId": "8f71a048-78af-4f19-eea7-f4ac57f29d9f"
      },
      "outputs": [
        {
          "output_type": "execute_result",
          "data": {
            "text/plain": [
              "'0.15.2+cpu'"
            ],
            "application/vnd.google.colaboratory.intrinsic+json": {
              "type": "string"
            }
          },
          "metadata": {},
          "execution_count": 26
        }
      ],
      "source": [
        "import torch\n",
        "import torchtext\n",
        "from torchtext.datasets import DBpedia\n",
        "\n",
        "# version\n",
        "torchtext.__version__"
      ]
    },
    {
      "cell_type": "markdown",
      "metadata": {
        "id": "FraBAdnkJpm4"
      },
      "source": [
        "## Processing the dataset and starting the vocabulary"
      ]
    },
    {
      "cell_type": "code",
      "execution_count": 27,
      "metadata": {
        "id": "1tSBWSDDJHBr"
      },
      "outputs": [],
      "source": [
        "train_iter = iter(DBpedia(split=\"train\"))"
      ]
    },
    {
      "cell_type": "code",
      "execution_count": 28,
      "metadata": {
        "colab": {
          "base_uri": "https://localhost:8080/"
        },
        "id": "BIliz0aZJ3Fa",
        "outputId": "f3d688bf-33c3-4a8d-eb20-37dca47df263"
      },
      "outputs": [
        {
          "output_type": "execute_result",
          "data": {
            "text/plain": [
              "(1,\n",
              " 'E. D. Abbott Ltd  Abbott of Farnham E D Abbott Limited was a British coachbuilding business based in Farnham Surrey trading under that name from 1929. A major part of their output was under sub-contract to motor vehicle manufacturers. Their business closed in 1972.')"
            ]
          },
          "metadata": {},
          "execution_count": 28
        }
      ],
      "source": [
        "next(train_iter)"
      ]
    },
    {
      "cell_type": "code",
      "execution_count": 29,
      "metadata": {
        "id": "pC_WwWaDJ6OX"
      },
      "outputs": [],
      "source": [
        "from torchtext.data.utils import get_tokenizer\n",
        "from torchtext.vocab import build_vocab_from_iterator\n",
        "\n",
        "tokenizer = get_tokenizer(\"basic_english\")\n",
        "train_iter = DBpedia(split=\"train\")\n",
        "\n",
        "def yield_tokens(data_iter):\n",
        "  for _, text in data_iter:\n",
        "    yield tokenizer(text)\n",
        "\n",
        "vocab = build_vocab_from_iterator(yield_tokens(train_iter), specials=[\"<unk>\"])\n",
        "vocab.set_default_index(vocab[\"<unk>\"])\n"
      ]
    },
    {
      "cell_type": "markdown",
      "metadata": {
        "id": "t6hBXFmQNI4L"
      },
      "source": [
        "Our vocabulary transforms the list of tokens in int numbers"
      ]
    },
    {
      "cell_type": "code",
      "execution_count": 30,
      "metadata": {
        "id": "LGlkzlj8M8x8",
        "colab": {
          "base_uri": "https://localhost:8080/"
        },
        "outputId": "9a5e6f84-065c-40d0-bee6-0a32da18fcfa"
      },
      "outputs": [
        {
          "output_type": "execute_result",
          "data": {
            "text/plain": [
              "['hi', 'there', '!', ',', 'here', 'lenny', 'making', 'tests']"
            ]
          },
          "metadata": {},
          "execution_count": 30
        }
      ],
      "source": [
        "tokenizer(\"Hi there!, here Lenny making tests\")"
      ]
    },
    {
      "cell_type": "code",
      "execution_count": 31,
      "metadata": {
        "id": "teiuPcTRNUvh",
        "colab": {
          "base_uri": "https://localhost:8080/"
        },
        "outputId": "51da96e3-8bf2-463c-de7d-56571647ab2e"
      },
      "outputs": [
        {
          "output_type": "execute_result",
          "data": {
            "text/plain": [
              "[10371, 313, 403, 90515, 1538, 13823, 1031, 5247, 90515, 0, 403]"
            ]
          },
          "metadata": {},
          "execution_count": 31
        }
      ],
      "source": [
        "vocab(tokenizer(\"Hi there!, here Lenny making tests, nihao!\"))"
      ]
    },
    {
      "cell_type": "markdown",
      "metadata": {
        "id": "3ZibMFbpOg-c"
      },
      "source": [
        "The tokenizer classify every word that is register, in this case tnakns to `<unk> ` the words that are not register as \"nihao\" is store as 0"
      ]
    },
    {
      "cell_type": "code",
      "execution_count": 32,
      "metadata": {
        "id": "u7UGiaFINZxR"
      },
      "outputs": [],
      "source": [
        "text_pipeline = lambda x: vocab(tokenizer(x))\n",
        "label_pipeline = lambda x: int(x) -1\n",
        "#to save starting in 0"
      ]
    },
    {
      "cell_type": "code",
      "execution_count": 33,
      "metadata": {
        "id": "ktTVVhb6PKTD",
        "colab": {
          "base_uri": "https://localhost:8080/"
        },
        "outputId": "f5487cfc-87de-42fa-9261-1061f2d3629d"
      },
      "outputs": [
        {
          "output_type": "execute_result",
          "data": {
            "text/plain": [
              "[10371, 90515, 187, 17, 2409, 13823]"
            ]
          },
          "metadata": {},
          "execution_count": 33
        }
      ],
      "source": [
        "text_pipeline(\"Hi, I'am Lenny\")"
      ]
    },
    {
      "cell_type": "code",
      "execution_count": 34,
      "metadata": {
        "colab": {
          "base_uri": "https://localhost:8080/"
        },
        "id": "UDgwEy3RPQPX",
        "outputId": "9ce573be-cce3-4585-8ca2-258d4e093203"
      },
      "outputs": [
        {
          "output_type": "execute_result",
          "data": {
            "text/plain": [
              "9"
            ]
          },
          "metadata": {},
          "execution_count": 34
        }
      ],
      "source": [
        "label_pipeline(\"10\")"
      ]
    },
    {
      "cell_type": "markdown",
      "metadata": {
        "id": "wRzmIMXyPypN"
      },
      "source": [
        "The `Dataloader` allows to load big data in a small batchers"
      ]
    },
    {
      "cell_type": "code",
      "execution_count": 35,
      "metadata": {
        "id": "WXrvA56XP-cu"
      },
      "outputs": [],
      "source": [
        "#Using cuda to big data process\n",
        "device = torch.device(\"cuda\" if torch.cuda.is_available() else \"cpu\")\n",
        "\n",
        "def collate_batch(batch):\n",
        "  label_list = []\n",
        "  text_list = []\n",
        "  offsets = [0]\n",
        "\n",
        "  for (_label, _text) in batch:\n",
        "    label_list.append(label_pipeline(_label))\n",
        "    processed_text = torch.tensor(text_pipeline(_text), dtype=torch.int64)\n",
        "    text_list.append(processed_text)\n",
        "    offsets.append(processed_text.size(0))\n",
        "\n",
        "  label_list = torch.tensor(label_list, dtype=torch.int64)\n",
        "  offsets = torch.tensor(offsets[:-1]).cumsum(dim=0)\n",
        "  text_list = torch.cat(text_list)\n",
        "  return label_list.to(device), text_list.to(device), offsets.to(device)"
      ]
    },
    {
      "cell_type": "code",
      "execution_count": 36,
      "metadata": {
        "id": "w_mUkTxePVu6"
      },
      "outputs": [],
      "source": [
        "from torch.utils.data import DataLoader\n",
        "\n",
        "train_iter = DBpedia(split=\"train\")\n",
        "dataloader = DataLoader(train_iter, batch_size=8, shuffle=False, collate_fn=collate_batch )\n",
        "                          # 8 in this case using a colab CPU"
      ]
    },
    {
      "cell_type": "code",
      "execution_count": 37,
      "metadata": {
        "colab": {
          "base_uri": "https://localhost:8080/"
        },
        "id": "r9BY2CaATOAL",
        "outputId": "a5a092c6-0739-47fc-f601-6f58a33aa7a9"
      },
      "outputs": [
        {
          "output_type": "execute_result",
          "data": {
            "text/plain": [
              "<torch.utils.data.dataloader.DataLoader at 0x7fe471538490>"
            ]
          },
          "metadata": {},
          "execution_count": 37
        }
      ],
      "source": [
        "dataloader"
      ]
    },
    {
      "cell_type": "code",
      "execution_count": 38,
      "metadata": {
        "id": "LEMPD-abTWVX"
      },
      "outputs": [],
      "source": [
        "from torch import nn\n",
        "import torch.nn.functional as F\n",
        "\n",
        "\n",
        "class Classificationtextmodel(nn.Module):\n",
        "  def __init__(self, vocab_size, embed_dim, num_class):\n",
        "   super(Classificationtextmodel, self).__init__()\n",
        "\n",
        "      # Embedding layer\n",
        "   self.embedding = nn.EmbeddingBag(vocab_size, embed_dim)\n",
        "\n",
        "      # Batch Normalization\n",
        "   self.bn1 = nn.BatchNorm1d(embed_dim)\n",
        "\n",
        "      # Fully conenected layer\n",
        "\n",
        "   self.fc = nn.Linear(embed_dim, num_class)\n",
        "\n",
        "  def forward(self, text, offsets):\n",
        "      # Embed the text\n",
        "    embedded = self.embedding(text, offsets)\n",
        "\n",
        "      # Apply Batch normalization\n",
        "    embedded_norm = self.bn1(embedded)\n",
        "\n",
        "      # Apply the ReLU activation function\n",
        "    embedded_activated = F.relu(embedded_norm)\n",
        "\n",
        "      # Output the class probabilities\n",
        "    return self.fc(embedded_activated)\n"
      ]
    },
    {
      "cell_type": "markdown",
      "metadata": {
        "id": "YOXRO3cqtoyd"
      },
      "source": [
        "### Generating the model with embeddin of 100"
      ]
    },
    {
      "cell_type": "code",
      "execution_count": 39,
      "metadata": {
        "id": "LS3N6zgqtWm4"
      },
      "outputs": [],
      "source": [
        "train_iter = DBpedia(split=\"train\")\n",
        "num_class = len(set([label for (label, text) in train_iter]))\n",
        "vocab_size = len(vocab)\n",
        "embedding_size = 100\n",
        "\n",
        "model = Classificationtextmodel(vocab_size=vocab_size, embed_dim=embedding_size, num_class=num_class).to(device)"
      ]
    },
    {
      "cell_type": "code",
      "execution_count": 40,
      "metadata": {
        "colab": {
          "base_uri": "https://localhost:8080/"
        },
        "id": "n5SCdzlYwtB-",
        "outputId": "aa8e51c2-9931-4dae-bf6e-cb84cf5af901"
      },
      "outputs": [
        {
          "output_type": "execute_result",
          "data": {
            "text/plain": [
              "802998"
            ]
          },
          "metadata": {},
          "execution_count": 40
        }
      ],
      "source": [
        "vocab_size"
      ]
    },
    {
      "cell_type": "code",
      "execution_count": 41,
      "metadata": {
        "colab": {
          "base_uri": "https://localhost:8080/"
        },
        "id": "QxCMgtFqw0rq",
        "outputId": "c3da9c54-9a1c-4bf1-c96a-2e8390f3515f"
      },
      "outputs": [
        {
          "output_type": "stream",
          "name": "stdout",
          "text": [
            "Classificationtextmodel(\n",
            "  (embedding): EmbeddingBag(802998, 100, mode='mean')\n",
            "  (bn1): BatchNorm1d(100, eps=1e-05, momentum=0.1, affine=True, track_running_stats=True)\n",
            "  (fc): Linear(in_features=100, out_features=14, bias=True)\n",
            ")\n"
          ]
        }
      ],
      "source": [
        "# model architecture\n",
        "print(model)\n",
        "\n"
      ]
    },
    {
      "cell_type": "code",
      "execution_count": 42,
      "metadata": {
        "colab": {
          "base_uri": "https://localhost:8080/"
        },
        "id": "b0Ml9POHw952",
        "outputId": "ac9f3bfe-6b95-41e1-8ecb-c62e9a9ce57c"
      },
      "outputs": [
        {
          "output_type": "stream",
          "name": "stdout",
          "text": [
            "The model has 80,301,414 trainable parameters\n"
          ]
        }
      ],
      "source": [
        "#Number of trainable parameters in our model\n",
        "def count_parameters(model):\n",
        "  return sum(p.numel() for p in model.parameters() if p.requires_grad)\n",
        "          #pnumel to get parameters                          #gradient = trainable\n",
        "\n",
        "print(f\"The model has {count_parameters(model):,} trainable parameters\")"
      ]
    },
    {
      "cell_type": "markdown",
      "metadata": {
        "id": "w6K0cShF1yDB"
      },
      "source": [
        "## Training and evaluate in our Model"
      ]
    },
    {
      "cell_type": "code",
      "execution_count": 43,
      "metadata": {
        "id": "iPD6qq6wxeZ6"
      },
      "outputs": [],
      "source": [
        "def training(dataloader):\n",
        "    # Turns the model to training mode\n",
        "    model.train()\n",
        "\n",
        "    # initialize the accuracy, count & loss for every epoch\n",
        "    epoch_acc = 0\n",
        "    epoch_loss = 0\n",
        "    total_count = 0\n",
        "\n",
        "    for idx, (label, text, offsets) in enumerate(dataloader):\n",
        "      # Reestar gradient every batch\n",
        "      optimizer.zero_grad()\n",
        "\n",
        "      # Get model predictions\n",
        "      prediction = model(text, offsets)\n",
        "\n",
        "      #Get the loss\n",
        "      loss = criteria(prediction, label)\n",
        "\n",
        "      #backpropage the loss and get the gradients\n",
        "      loss.backward()\n",
        "\n",
        "      #Get the accuracy\n",
        "\n",
        "      acc = (prediction.argmax(1) == label).sum()\n",
        "\n",
        "      #Avoid the gradients elevated it´s values\n",
        "      torch.nn.utils.clip_grad_norm_(model.parameters(), 0.1)\n",
        "\n",
        "      # Update the wheights\n",
        "      optimizer.step()\n",
        "\n",
        "      # Get the sum of loss & the accuracy for every epoch\n",
        "      epoch_acc += acc.item()\n",
        "      epoch_loss += loss.item()\n",
        "      total_count += label.size(0)\n",
        "\n",
        "      if idx % 500 == 0 and idx > 0:\n",
        "        print(f\" epoch {epoch} | {idx}/{len(dataloader)} batches | loss {epoch_loss/total_count} | accuracy {epoch_acc/total_count}\")\n",
        "\n",
        "\n",
        "    return epoch_acc/total_count, epoch_loss/total_count\n",
        "\n",
        "\n"
      ]
    },
    {
      "cell_type": "code",
      "execution_count": 44,
      "metadata": {
        "id": "MNllYc6zHD3F"
      },
      "outputs": [],
      "source": [
        "def evaluate(dataloader):\n",
        "  model.eval()\n",
        "  epoch_acc = 0\n",
        "  total_count = 0\n",
        "  epoch_loss = 0\n",
        "\n",
        "  with torch.no_grad():\n",
        "    for idx, (label, text, offsets) in enumerate(dataloader):\n",
        "              # Get the predicted label\n",
        "      prediction = model(text, offsets)\n",
        "\n",
        "              # Get loss & accuracy\n",
        "      loss = criteria(prediction, label)\n",
        "      acc = (prediction.argmax(1) == label).sum()\n",
        "\n",
        "              # Get the new sum of loss & accuracy\n",
        "      epoch_loss += loss.item()\n",
        "      epoch_acc += acc.item()\n",
        "      total_count += label.size(0)\n",
        "\n",
        "  return epoch_acc/total_count, epoch_loss/total_count\n",
        "\n"
      ]
    },
    {
      "cell_type": "markdown",
      "metadata": {
        "id": "T6M74PUYJpWB"
      },
      "source": [
        "## Training: Data Split, loss & Optimization"
      ]
    },
    {
      "cell_type": "code",
      "execution_count": 45,
      "metadata": {
        "id": "u50tfnn1JVim"
      },
      "outputs": [],
      "source": [
        "#Hyperpatameters\n",
        "\n",
        "epochs = 6\n",
        "learning_rate = 0.15\n",
        "batch_size = 86"
      ]
    },
    {
      "cell_type": "code",
      "execution_count": 46,
      "metadata": {
        "id": "aMNQ-nzPJ-ri"
      },
      "outputs": [],
      "source": [
        "# loss, optimizer\n",
        "\n",
        "criteria = torch.nn.CrossEntropyLoss()\n",
        "optimizer = torch.optim.SGD(model.parameters(), lr= learning_rate)"
      ]
    },
    {
      "cell_type": "markdown",
      "metadata": {
        "id": "xTPqOCP_T5O-"
      },
      "source": [
        "### Split of Data"
      ]
    },
    {
      "cell_type": "code",
      "execution_count": 47,
      "metadata": {
        "id": "sBSeuXq5Ka_0"
      },
      "outputs": [],
      "source": [
        "from torch.utils.data.dataset import random_split\n",
        "from torchtext.data.functional import to_map_style_dataset\n",
        "\n",
        "# Get the trainset & testset\n",
        "train_iter, test_iter = DBpedia()\n",
        "train_dataset = to_map_style_dataset(train_iter)\n",
        "test_dataset = to_map_style_dataset(test_iter)\n",
        "\n",
        "# Train the model using the 95% of data from trainset\n",
        "num_train = int(len(train_dataset) * 0.95)\n",
        "\n",
        "# Get a validation dataset with 5% of trainset\n",
        "split_train_, split_valid_ = random_split(train_dataset, [num_train, len(train_dataset)-num_train])\n",
        "\n",
        "# Get dataloader ready to upload to our model\n",
        "train_dataloader = DataLoader(split_train_, batch_size=batch_size, shuffle=True, collate_fn=collate_batch)\n",
        "valid_dataloader = DataLoader(split_valid_, batch_size=batch_size, shuffle=True, collate_fn=collate_batch)\n",
        "test_dataloader = DataLoader(test_dataset, batch_size=batch_size, shuffle=True, collate_fn=collate_batch)"
      ]
    },
    {
      "cell_type": "markdown",
      "metadata": {
        "id": "Wi-FED-HWxp0"
      },
      "source": [
        "## Training & Evaluation"
      ]
    },
    {
      "cell_type": "code",
      "execution_count": 48,
      "metadata": {
        "colab": {
          "base_uri": "https://localhost:8080/"
        },
        "id": "Q8VyGTtAWiel",
        "outputId": "015c8a05-991f-4c6a-f618-cecf118acedc"
      },
      "outputs": [
        {
          "output_type": "stream",
          "name": "stdout",
          "text": [
            " epoch 1 | 500/6187 batches | loss 0.025818540210738927 | accuracy 0.3509260548670102\n",
            " epoch 1 | 1000/6187 batches | loss 0.022533882248095053 | accuracy 0.4567757823571777\n",
            " epoch 1 | 1500/6187 batches | loss 0.020437451173250628 | accuracy 0.5064065816587391\n",
            " epoch 1 | 2000/6187 batches | loss 0.019008530099198832 | accuracy 0.5378996548237509\n",
            " epoch 1 | 2500/6187 batches | loss 0.017986463289190898 | accuracy 0.5588927219809751\n",
            " epoch 1 | 3000/6187 batches | loss 0.017211621653409823 | accuracy 0.5747192796199716\n",
            " epoch 1 | 3500/6187 batches | loss 0.016578671121242852 | accuracy 0.5874401333838173\n",
            " epoch 1 | 4000/6187 batches | loss 0.016071531376417925 | accuracy 0.5974087873380493\n",
            " epoch 1 | 4500/6187 batches | loss 0.015655409086510825 | accuracy 0.6056121895392755\n",
            " epoch 1 | 5000/6187 batches | loss 0.01528614392589596 | accuracy 0.6129704291699799\n",
            " epoch 1 | 5500/6187 batches | loss 0.014975361293023303 | accuracy 0.6193461653906478\n",
            " epoch 1 | 6000/6187 batches | loss 0.014701198110960446 | accuracy 0.6249946714307305\n",
            " epoch 2 | 500/6187 batches | loss 0.01139726160639802 | accuracy 0.6977672561853038\n",
            " epoch 2 | 1000/6187 batches | loss 0.011278906215387402 | accuracy 0.6989754431614896\n",
            " epoch 2 | 1500/6187 batches | loss 0.011232373379424277 | accuracy 0.6997583006677719\n",
            " epoch 2 | 2000/6187 batches | loss 0.011161288747854754 | accuracy 0.7015736317887568\n",
            " epoch 2 | 2500/6187 batches | loss 0.011080535878755411 | accuracy 0.7032024399542509\n",
            " epoch 2 | 3000/6187 batches | loss 0.010997334744164016 | accuracy 0.7049006920173896\n",
            " epoch 2 | 3500/6187 batches | loss 0.010944200144645668 | accuracy 0.7061902579329494\n",
            " epoch 2 | 4000/6187 batches | loss 0.01089434885119775 | accuracy 0.7072795754549734\n",
            " epoch 2 | 4500/6187 batches | loss 0.010850321097037983 | accuracy 0.7084058839637704\n",
            " epoch 2 | 5000/6187 batches | loss 0.010797264508751516 | accuracy 0.7095859897787884\n",
            " epoch 2 | 5500/6187 batches | loss 0.01073441336766529 | accuracy 0.71108424261128\n",
            " epoch 2 | 6000/6187 batches | loss 0.010679819352496718 | accuracy 0.7124568385889174\n",
            " epoch 3 | 500/6187 batches | loss 0.009950962220427774 | accuracy 0.7310959476396045\n",
            " epoch 3 | 1000/6187 batches | loss 0.009846050792241925 | accuracy 0.7346258392770021\n",
            " epoch 3 | 1500/6187 batches | loss 0.009830496297584776 | accuracy 0.7345335667694405\n",
            " epoch 3 | 2000/6187 batches | loss 0.009792526469489955 | accuracy 0.7353474425577908\n",
            " epoch 3 | 2500/6187 batches | loss 0.009753784902393333 | accuracy 0.7357150163190538\n",
            " epoch 3 | 3000/6187 batches | loss 0.009722475752577533 | accuracy 0.7367001697108716\n",
            " epoch 3 | 3500/6187 batches | loss 0.009684009488965774 | accuracy 0.7379951243166404\n",
            " epoch 3 | 4000/6187 batches | loss 0.00964176324950045 | accuracy 0.7392657649541103\n",
            " epoch 3 | 4500/6187 batches | loss 0.009607327299038883 | accuracy 0.7401740181768393\n",
            " epoch 3 | 5000/6187 batches | loss 0.009569294591418505 | accuracy 0.7409587849871886\n",
            " epoch 3 | 5500/6187 batches | loss 0.009538331264436917 | accuracy 0.7419940560490059\n",
            " epoch 3 | 6000/6187 batches | loss 0.009503376443702355 | accuracy 0.7428374340710657\n",
            " epoch 4 | 500/6187 batches | loss 0.009065168500721291 | accuracy 0.7541196676414612\n",
            " epoch 4 | 1000/6187 batches | loss 0.009003601712625304 | accuracy 0.7559301163952327\n",
            " epoch 4 | 1500/6187 batches | loss 0.008965131259634251 | accuracy 0.7570224501495127\n",
            " epoch 4 | 2000/6187 batches | loss 0.00891166627677239 | accuracy 0.7586497448949944\n",
            " epoch 4 | 2500/6187 batches | loss 0.008883691636003145 | accuracy 0.7595473438531564\n",
            " epoch 4 | 3000/6187 batches | loss 0.008866654065630407 | accuracy 0.7600644746324868\n",
            " epoch 4 | 3500/6187 batches | loss 0.008836045353858589 | accuracy 0.7603840763104229\n",
            " epoch 4 | 4000/6187 batches | loss 0.008799558488862005 | accuracy 0.7610742663171416\n",
            " epoch 4 | 4500/6187 batches | loss 0.008779300351433062 | accuracy 0.7620218762755563\n",
            " epoch 4 | 5000/6187 batches | loss 0.008752874404906113 | accuracy 0.7627451253935259\n",
            " epoch 4 | 5500/6187 batches | loss 0.008727530222648104 | accuracy 0.7633580363823914\n",
            " epoch 4 | 6000/6187 batches | loss 0.008689862741742063 | accuracy 0.7643202877039873\n",
            " epoch 5 | 500/6187 batches | loss 0.008317361222786286 | accuracy 0.7747528199415123\n",
            " epoch 5 | 1000/6187 batches | loss 0.00824450109399523 | accuracy 0.7763515554213228\n",
            " epoch 5 | 1500/6187 batches | loss 0.008252848965320124 | accuracy 0.7759942983747269\n",
            " epoch 5 | 2000/6187 batches | loss 0.0082543154683623 | accuracy 0.776082888788164\n",
            " epoch 5 | 2500/6187 batches | loss 0.008219925791451095 | accuracy 0.7766102861181109\n",
            " epoch 5 | 3000/6187 batches | loss 0.00818611377555845 | accuracy 0.7773455359841294\n",
            " epoch 5 | 3500/6187 batches | loss 0.00816521202266059 | accuracy 0.7779803776993949\n",
            " epoch 5 | 4000/6187 batches | loss 0.008131133734801921 | accuracy 0.7788459861778741\n",
            " epoch 5 | 4500/6187 batches | loss 0.008118719416025289 | accuracy 0.7792221883509091\n",
            " epoch 5 | 5000/6187 batches | loss 0.00809939312123472 | accuracy 0.7798486814265054\n",
            " epoch 5 | 5500/6187 batches | loss 0.008078444613314197 | accuracy 0.7805726654350372\n",
            " epoch 5 | 6000/6187 batches | loss 0.008069607854912278 | accuracy 0.7810035536712874\n",
            " epoch 6 | 500/6187 batches | loss 0.007770632156969163 | accuracy 0.7915332126444785\n",
            " epoch 6 | 1000/6187 batches | loss 0.007723330841424936 | accuracy 0.791371419278396\n",
            " epoch 6 | 1500/6187 batches | loss 0.007728372458399996 | accuracy 0.7915343259532405\n",
            " epoch 6 | 2000/6187 batches | loss 0.00771941024417687 | accuracy 0.7914531106539754\n",
            " epoch 6 | 2500/6187 batches | loss 0.007699106254992474 | accuracy 0.7919157918228058\n",
            " epoch 6 | 3000/6187 batches | loss 0.007681239705949392 | accuracy 0.7927241307161179\n",
            " epoch 6 | 3500/6187 batches | loss 0.0076784162150121535 | accuracy 0.7923516868934457\n",
            " epoch 6 | 4000/6187 batches | loss 0.007663820302261295 | accuracy 0.7926041745377609\n",
            " epoch 6 | 4500/6187 batches | loss 0.007638162748813617 | accuracy 0.7932397451729073\n",
            " epoch 6 | 5000/6187 batches | loss 0.007627603992121512 | accuracy 0.7934227108066759\n",
            " epoch 6 | 5500/6187 batches | loss 0.00760945688567303 | accuracy 0.7938472074844742\n",
            " epoch 6 | 6000/6187 batches | loss 0.0075896194521884106 | accuracy 0.7942920365985514\n"
          ]
        }
      ],
      "source": [
        "# Get the best loss value\n",
        "major_loss_validation = float(\"inf\")\n",
        "\n",
        "# Training\n",
        "for epoch in range(1, epochs + 1):\n",
        "    # Train\n",
        "    training_acc, training_loss = training(train_dataloader)\n",
        "\n",
        "    #Validation\n",
        "    validation_acc, validation_loss = evaluate(valid_dataloader)\n",
        "\n",
        "    #Save the best model\n",
        "    if validation_loss < major_loss_validation:\n",
        "      best_valid_loss = validation_loss\n",
        "      torch.save(model.state_dict(), \"best_models.pt\")\n"
      ]
    },
    {
      "cell_type": "code",
      "execution_count": 49,
      "metadata": {
        "id": "Nqn8TDqObGA7",
        "colab": {
          "base_uri": "https://localhost:8080/"
        },
        "outputId": "c8a4d489-af9e-4021-d839-4f9776c0f6c1"
      },
      "outputs": [
        {
          "output_type": "stream",
          "name": "stdout",
          "text": [
            "The Accuracy in the test dataset is: 0.8034714285714286\n",
            "The Loss in the test dataset is: 0.007318142723185675\n"
          ]
        }
      ],
      "source": [
        "test_acc, test_loss = evaluate(test_dataloader)\n",
        "\n",
        "print(f\"The Accuracy in the test dataset is: {test_acc}\")\n",
        "print(f\"The Loss in the test dataset is: {test_loss}\")\n"
      ]
    },
    {
      "cell_type": "markdown",
      "metadata": {
        "id": "ovG0KkZ6iofk"
      },
      "source": [
        "## Optimization using Inference"
      ]
    },
    {
      "cell_type": "code",
      "execution_count": 53,
      "metadata": {
        "colab": {
          "base_uri": "https://localhost:8080/"
        },
        "id": "-9X1pMx3Zibd",
        "outputId": "8e90fb7f-9c31-4581-94e4-af33ccd82d88"
      },
      "outputs": [
        {
          "output_type": "stream",
          "name": "stdout",
          "text": [
            "The example number 1 belong to the category Village\n"
          ]
        }
      ],
      "source": [
        "# In case of heavy models, this case of optimization allow us to reduce production costs\n",
        "\n",
        "DBpedia_label = {1: 'Company',\n",
        "                2: 'EducationalInstitution',\n",
        "                3: 'Artist',\n",
        "                4: 'Athlete',\n",
        "                5: 'OfficeHolder',\n",
        "                6: 'MeanOfTransportation',\n",
        "                7: 'Building',\n",
        "                8: 'NaturalPlace',\n",
        "                9: 'Village',\n",
        "                10: 'Animal',\n",
        "                11: 'Plant',\n",
        "                12: 'Album',\n",
        "                13: 'Film',\n",
        "                14: 'WrittenWork'}\n",
        "\n",
        "def predict(text, text_pipeline):\n",
        "  with torch.no_grad():\n",
        "    text = torch.tensor(text_pipeline(text))\n",
        "    opt_mod = torch.compile(model, mode=\"reduce-overhead\")\n",
        "    #optimized model\n",
        "    output = opt_mod(text, torch.tensor([0]))\n",
        "    return output.argmax(1).item() + 1\n",
        "                        #get only the format an 1 to 14\n",
        "\n",
        "example_1 = \"Zaanse Schans is a village  kwon for their windmills & harvest\"\n",
        "\n",
        "model = model.to(\"cpu\")\n",
        "\n",
        "print(f\"The example number 1 belong to the category {DBpedia_label[predict(example_1, text_pipeline)]}\")"
      ]
    },
    {
      "cell_type": "markdown",
      "metadata": {
        "id": "r_co1WE69ORm"
      },
      "source": [
        "## Saving the model"
      ]
    },
    {
      "cell_type": "code",
      "execution_count": 54,
      "metadata": {
        "id": "Iu4_84vK6Xdr"
      },
      "outputs": [],
      "source": [
        "model_state_dict = model.state_dict()\n",
        "optimizer_state_dict = optimizer.state_dict()\n",
        "\n",
        "checkpoint = {\n",
        "    \"model_state_dict\" : model_state_dict,\n",
        "    \"optimizer_state_dict\": optimizer_state_dict,\n",
        "    \"epoch\" : epoch,\n",
        "    \"loss\" : training_loss,\n",
        "}\n",
        "\n",
        "torch.save(checkpoint, \"model_checkpoint.pth\")"
      ]
    },
    {
      "cell_type": "markdown",
      "source": [
        "## Uploading to Hugging Face"
      ],
      "metadata": {
        "id": "G8AS6lc8Em0R"
      }
    },
    {
      "cell_type": "code",
      "execution_count": 55,
      "metadata": {
        "id": "5G6tABsU9-Ch"
      },
      "outputs": [],
      "source": [
        "%%capture\n",
        "!pip install huggingface_hub"
      ]
    },
    {
      "cell_type": "code",
      "source": [
        "!huggingface-cli login"
      ],
      "metadata": {
        "colab": {
          "base_uri": "https://localhost:8080/"
        },
        "id": "rZqlYaYOEs3-",
        "outputId": "0bff4473-4355-442e-b230-b5727602ad95"
      },
      "execution_count": 57,
      "outputs": [
        {
          "output_type": "stream",
          "name": "stdout",
          "text": [
            "\n",
            "    _|    _|  _|    _|    _|_|_|    _|_|_|  _|_|_|  _|      _|    _|_|_|      _|_|_|_|    _|_|      _|_|_|  _|_|_|_|\n",
            "    _|    _|  _|    _|  _|        _|          _|    _|_|    _|  _|            _|        _|    _|  _|        _|\n",
            "    _|_|_|_|  _|    _|  _|  _|_|  _|  _|_|    _|    _|  _|  _|  _|  _|_|      _|_|_|    _|_|_|_|  _|        _|_|_|\n",
            "    _|    _|  _|    _|  _|    _|  _|    _|    _|    _|    _|_|  _|    _|      _|        _|    _|  _|        _|\n",
            "    _|    _|    _|_|      _|_|_|    _|_|_|  _|_|_|  _|      _|    _|_|_|      _|        _|    _|    _|_|_|  _|_|_|_|\n",
            "    \n",
            "    To login, `huggingface_hub` requires a token generated from https://huggingface.co/settings/tokens .\n",
            "Token: \n",
            "Add token as git credential? (Y/n) n\n",
            "Token is valid (permission: write).\n",
            "Your token has been saved to /root/.cache/huggingface/token\n",
            "Login successful\n"
          ]
        }
      ]
    },
    {
      "cell_type": "code",
      "source": [
        "from huggingface_hub import HfApi\n",
        "api = HfApi()\n",
        "\n",
        "api.create_repo(repo_id=\"LennyRBriones/textclassification-DBpedia-lenny-rbriones\")"
      ],
      "metadata": {
        "colab": {
          "base_uri": "https://localhost:8080/",
          "height": 52
        },
        "id": "KEk25nifE_dt",
        "outputId": "35e5ae5c-953b-4369-e70f-e14e82ee50e5"
      },
      "execution_count": 59,
      "outputs": [
        {
          "output_type": "execute_result",
          "data": {
            "text/plain": [
              "RepoUrl('https://huggingface.co/LennyRBriones/textclassification-DBpedia-lenny-rbriones', endpoint='https://huggingface.co', repo_type='model', repo_id='LennyRBriones/textclassification-DBpedia-lenny-rbriones')"
            ],
            "application/vnd.google.colaboratory.intrinsic+json": {
              "type": "string"
            }
          },
          "metadata": {},
          "execution_count": 59
        }
      ]
    },
    {
      "cell_type": "markdown",
      "source": [
        "### Upload our checkpoin"
      ],
      "metadata": {
        "id": "uZocJiHoGEvH"
      }
    },
    {
      "cell_type": "code",
      "source": [
        "!ls"
      ],
      "metadata": {
        "colab": {
          "base_uri": "https://localhost:8080/"
        },
        "id": "mhz7RGtUGNpG",
        "outputId": "06c58b4f-0078-4ac0-abb8-f0a8bdb855ab"
      },
      "execution_count": 60,
      "outputs": [
        {
          "output_type": "stream",
          "name": "stdout",
          "text": [
            "'=2.0.0'   best_models.pt   model_checkpoint.pth   sample_data\n"
          ]
        }
      ]
    },
    {
      "cell_type": "code",
      "source": [
        "api.upload_file(\n",
        "    path_or_fileobj=\"./model_checkpoint.pth\",\n",
        "    path_in_repo=\"model_checkpoint.pth\",\n",
        "    repo_id=\"LennyRBriones/textclassification-DBpedia-lenny-rbriones\"\n",
        ")"
      ],
      "metadata": {
        "colab": {
          "base_uri": "https://localhost:8080/",
          "height": 67,
          "referenced_widgets": [
            "32025a10d4e546cea7abc4b3ab039325",
            "699f7ac3fb1f4f6dbc806c4d6e4a3334",
            "69bd4affdc1e43e58d298ba3c20385f1",
            "dd79c12f3c2447afbce38b23b309969f",
            "38803563bc534f9e9898a2ba5d90fea1",
            "ea2bbbee02ba49deae129f3c39a0a059",
            "dd4f2b3faca04e3b8b6fa06e640b7a42",
            "669b6e059e9b4e24857bf8976cbd3f85",
            "b7a9d921a8de4bd4b4ff2303baa5ecdb",
            "c3713c2974e240c58314554c0b523711",
            "f68b96c6eac74d149f59c6df41c6b825"
          ]
        },
        "id": "-SIx_VqPFoBY",
        "outputId": "4b58d712-596d-4a4f-f784-2a33c823e935"
      },
      "execution_count": 64,
      "outputs": [
        {
          "output_type": "display_data",
          "data": {
            "text/plain": [
              "model_checkpoint.pth:   0%|          | 0.00/321M [00:00<?, ?B/s]"
            ],
            "application/vnd.jupyter.widget-view+json": {
              "version_major": 2,
              "version_minor": 0,
              "model_id": "32025a10d4e546cea7abc4b3ab039325"
            }
          },
          "metadata": {}
        },
        {
          "output_type": "execute_result",
          "data": {
            "text/plain": [
              "'https://huggingface.co/LennyRBriones/textclassification-DBpedia-lenny-rbriones/blob/main/model_checkpoint.pth'"
            ],
            "application/vnd.google.colaboratory.intrinsic+json": {
              "type": "string"
            }
          },
          "metadata": {},
          "execution_count": 64
        }
      ]
    },
    {
      "cell_type": "markdown",
      "source": [
        "### Downloading the model from hugging face to local directory"
      ],
      "metadata": {
        "id": "na0_7BguHPFX"
      }
    },
    {
      "cell_type": "code",
      "source": [
        "!mkdir weights"
      ],
      "metadata": {
        "id": "0t8ss_H9Gev0"
      },
      "execution_count": 65,
      "outputs": []
    },
    {
      "cell_type": "code",
      "source": [
        "from huggingface_hub import hf_hub_download\n",
        "hf_hub_download(repo_id=\"LennyRBriones/textclassification-DBpedia-lenny-rbriones\", filename=\"model_checkpoint.pth\", local_dir=\"weights/\")"
      ],
      "metadata": {
        "colab": {
          "base_uri": "https://localhost:8080/",
          "height": 67,
          "referenced_widgets": [
            "5943bd0e40d64be4ab15bc3ed71ca266",
            "e395a5fb6512445fb549b03983158867",
            "29025f82b8044a64b4b6eaa3b7907dad",
            "20023af14ba548549a75e24afad596f8",
            "c5c9c292944a4fa394fbe9d589f9d6a1",
            "f1df7331abe244eeab9a937fe4167527",
            "e7c7771950664476b734c96be5a67bb5",
            "bb284ad3dce847e5b4a09c1e49298635",
            "f6d0b319dfb34df8af8d6e4ba38219ad",
            "5655c643077844f09dd97891c2b17fb7",
            "75401555a76946ddb90eaa14eee210d3"
          ]
        },
        "id": "PRSLf8aoHUiG",
        "outputId": "00594e4b-4111-4373-d5a1-a47d196d3a34"
      },
      "execution_count": 66,
      "outputs": [
        {
          "output_type": "display_data",
          "data": {
            "text/plain": [
              "Downloading model_checkpoint.pth:   0%|          | 0.00/321M [00:00<?, ?B/s]"
            ],
            "application/vnd.jupyter.widget-view+json": {
              "version_major": 2,
              "version_minor": 0,
              "model_id": "5943bd0e40d64be4ab15bc3ed71ca266"
            }
          },
          "metadata": {}
        },
        {
          "output_type": "execute_result",
          "data": {
            "text/plain": [
              "'weights/model_checkpoint.pth'"
            ],
            "application/vnd.google.colaboratory.intrinsic+json": {
              "type": "string"
            }
          },
          "metadata": {},
          "execution_count": 66
        }
      ]
    },
    {
      "cell_type": "markdown",
      "source": [
        "### Loading the downloaded model"
      ],
      "metadata": {
        "id": "_iYtKQ0FH124"
      }
    },
    {
      "cell_type": "code",
      "source": [
        "checkpoint = torch.load(\"weights/model_checkpoint.pth\")"
      ],
      "metadata": {
        "id": "4ECxePkPHkCj"
      },
      "execution_count": 67,
      "outputs": []
    },
    {
      "cell_type": "code",
      "source": [
        "train_iter =DBpedia(split=\"train\")\n",
        "num_class = len(set([label for (label, text ) in train_iter]))\n",
        "vocab_size = len(vocab)\n",
        "embedding_size = 100\n",
        "\n",
        "model_2 = Classificationtextmodel(vocab_size = vocab_size, embed_dim = embedding_size, num_class=num_class)"
      ],
      "metadata": {
        "id": "AyVo9e4pIRtu"
      },
      "execution_count": 68,
      "outputs": []
    },
    {
      "cell_type": "code",
      "source": [
        "optimizer_2 = torch.optim.SGD(model_2.parameters(), lr=0.2)"
      ],
      "metadata": {
        "id": "0WglwFaKJAOM"
      },
      "execution_count": 69,
      "outputs": []
    },
    {
      "cell_type": "code",
      "source": [
        "checkpoint[\"model_state_dict\"]"
      ],
      "metadata": {
        "colab": {
          "base_uri": "https://localhost:8080/"
        },
        "id": "jFp2HFyrJIHg",
        "outputId": "350547d6-2508-4b02-f1d2-0979ac25a7d5"
      },
      "execution_count": 72,
      "outputs": [
        {
          "output_type": "execute_result",
          "data": {
            "text/plain": [
              "OrderedDict([('embedding.weight',\n",
              "              tensor([[-0.2452, -1.2445, -0.5474,  ...,  1.9547,  0.6863, -1.0317],\n",
              "                      [-1.4177,  0.3655,  0.8530,  ..., -0.3490, -0.1362,  1.5133],\n",
              "                      [-0.0567,  0.3204, -2.0167,  ...,  0.9700, -0.2322,  0.1036],\n",
              "                      ...,\n",
              "                      [ 1.3814,  0.2670,  0.5674,  ...,  0.5943, -0.4915, -1.2665],\n",
              "                      [ 0.3377,  1.0727, -1.2215,  ...,  0.3235,  0.9733,  0.3194],\n",
              "                      [ 0.3777,  0.0786,  0.9783,  ..., -0.4042, -0.5603, -0.0184]])),\n",
              "             ('bn1.weight',\n",
              "              tensor([0.9272, 0.9416, 0.9772, 1.1068, 0.8722, 1.0011, 1.1578, 1.0804, 1.0119,\n",
              "                      1.1129, 0.9800, 0.9941, 1.0818, 1.0081, 0.8985, 1.1512, 1.2241, 0.9705,\n",
              "                      1.1213, 0.9675, 0.8094, 1.0561, 0.9022, 0.9606, 1.0165, 0.9735, 1.1263,\n",
              "                      0.9097, 1.2037, 0.9690, 1.1338, 1.0121, 1.1558, 1.0870, 1.0120, 1.0896,\n",
              "                      0.8426, 0.9985, 1.1021, 1.2925, 1.0314, 1.1630, 0.9942, 1.0029, 1.0720,\n",
              "                      0.8879, 1.0800, 0.9411, 1.0687, 0.9552, 0.8837, 1.0020, 0.9775, 1.0497,\n",
              "                      1.0375, 1.0727, 1.1614, 1.0731, 0.9855, 0.8483, 1.0404, 1.0507, 1.2468,\n",
              "                      1.1361, 0.9997, 1.0506, 1.0932, 1.0512, 1.2355, 1.0340, 1.0141, 1.0307,\n",
              "                      1.0590, 1.0862, 0.9758, 1.0891, 1.0022, 1.1244, 1.0894, 1.1178, 0.8895,\n",
              "                      0.9605, 1.0912, 0.9388, 1.0443, 0.9595, 1.1923, 0.9177, 0.9946, 1.1472,\n",
              "                      0.9085, 0.9608, 0.9590, 1.1398, 0.9991, 1.1616, 0.9965, 0.9274, 0.9778,\n",
              "                      1.1091])),\n",
              "             ('bn1.bias',\n",
              "              tensor([1.0829, 0.9035, 1.3297, 0.5288, 0.8818, 0.8752, 1.1311, 0.8030, 0.8931,\n",
              "                      1.0581, 0.6482, 0.9649, 0.7633, 1.0535, 1.3942, 0.6644, 1.0662, 0.8375,\n",
              "                      0.8876, 0.7044, 0.9413, 0.8055, 1.0883, 1.0389, 0.5639, 0.8864, 0.8989,\n",
              "                      1.0863, 0.6449, 1.1388, 0.8432, 1.2167, 0.3869, 0.7091, 0.6016, 0.1835,\n",
              "                      0.9412, 0.9731, 0.7451, 1.0190, 0.6214, 1.2583, 0.8565, 1.0759, 0.5736,\n",
              "                      1.1770, 0.8158, 1.0559, 0.4575, 0.8129, 0.9676, 1.0110, 0.6672, 1.2343,\n",
              "                      0.5647, 1.2668, 1.2314, 0.4048, 0.9205, 0.8595, 0.9880, 1.0961, 0.7184,\n",
              "                      0.5093, 0.6248, 0.4526, 0.7577, 0.8993, 0.7150, 0.9646, 0.8214, 0.5474,\n",
              "                      0.6225, 0.5154, 1.0710, 0.8316, 0.9257, 0.3068, 1.2701, 0.9638, 0.8848,\n",
              "                      0.7025, 0.5034, 0.9661, 0.4495, 1.2671, 1.2017, 1.1611, 0.9947, 0.7293,\n",
              "                      1.1132, 0.7702, 0.7983, 1.0403, 0.6562, 0.8010, 0.7821, 0.7646, 0.8981,\n",
              "                      1.2301])),\n",
              "             ('bn1.running_mean',\n",
              "              tensor([ 0.0038, -0.0930,  0.0205, -0.1902, -0.1289, -0.0536, -0.0731, -0.2607,\n",
              "                       0.0177, -0.0826,  0.1367,  0.0737,  0.1988,  0.0968,  0.0440, -0.0366,\n",
              "                      -0.0737,  0.0681, -0.0472, -0.0507,  0.1364, -0.0603,  0.0920,  0.0728,\n",
              "                       0.0556, -0.0558, -0.0052, -0.0153,  0.1560,  0.0114,  0.0205,  0.1959,\n",
              "                      -0.0641, -0.0591, -0.0139,  0.0121,  0.2157,  0.0119, -0.1046, -0.1044,\n",
              "                      -0.0620, -0.1769, -0.0700,  0.1041,  0.0784,  0.0847, -0.0526, -0.0324,\n",
              "                       0.0089,  0.0412, -0.1115,  0.0570,  0.0497, -0.1260,  0.0410, -0.2421,\n",
              "                       0.1976,  0.1249,  0.2606, -0.0176, -0.1343, -0.0741,  0.0827,  0.1478,\n",
              "                      -0.1762,  0.0702,  0.1262,  0.0352,  0.0353,  0.1303,  0.0866, -0.1019,\n",
              "                      -0.0212, -0.1197,  0.0653, -0.1044,  0.1609, -0.0735,  0.0774, -0.0628,\n",
              "                       0.0643,  0.0595,  0.0045,  0.1555, -0.0174, -0.0363,  0.3261, -0.1143,\n",
              "                      -0.0067, -0.1042, -0.0281, -0.0546, -0.0538,  0.2237,  0.0899,  0.0895,\n",
              "                       0.0161, -0.0483, -0.1343, -0.0564])),\n",
              "             ('bn1.running_var',\n",
              "              tensor([0.0324, 0.0308, 0.0347, 0.0299, 0.0248, 0.0254, 0.0323, 0.0296, 0.0413,\n",
              "                      0.0358, 0.0308, 0.0282, 0.0300, 0.0348, 0.0325, 0.0303, 0.0353, 0.0287,\n",
              "                      0.0317, 0.0246, 0.0360, 0.0313, 0.0333, 0.0319, 0.0266, 0.0280, 0.0340,\n",
              "                      0.0348, 0.0289, 0.0311, 0.0341, 0.0371, 0.0302, 0.0279, 0.0284, 0.0243,\n",
              "                      0.0291, 0.0247, 0.0317, 0.0429, 0.0297, 0.0360, 0.0337, 0.0406, 0.0333,\n",
              "                      0.0427, 0.0307, 0.0295, 0.0293, 0.0284, 0.0259, 0.0379, 0.0285, 0.0365,\n",
              "                      0.0312, 0.0476, 0.0525, 0.0307, 0.0346, 0.0349, 0.0300, 0.0428, 0.0336,\n",
              "                      0.0289, 0.0228, 0.0235, 0.0293, 0.0313, 0.0330, 0.0422, 0.0379, 0.0295,\n",
              "                      0.0377, 0.0302, 0.0343, 0.0304, 0.0437, 0.0282, 0.0361, 0.0273, 0.0276,\n",
              "                      0.0274, 0.0290, 0.0270, 0.0235, 0.0361, 0.0346, 0.0351, 0.0301, 0.0351,\n",
              "                      0.0261, 0.0247, 0.0239, 0.0353, 0.0264, 0.0293, 0.0301, 0.0313, 0.0306,\n",
              "                      0.0423])),\n",
              "             ('bn1.num_batches_tracked', tensor(37122)),\n",
              "             ('fc.weight',\n",
              "              tensor([[-0.0935, -0.3108, -0.0542,  ...,  0.1578,  0.0016,  0.1811],\n",
              "                      [ 0.2277, -0.2297,  0.0914,  ...,  0.0799,  0.0498, -0.1259],\n",
              "                      [-0.0766, -0.3976, -0.4271,  ..., -0.1217,  0.0481, -0.0294],\n",
              "                      ...,\n",
              "                      [-0.4694,  0.1760, -0.0329,  ..., -0.2917, -0.4064, -0.1124],\n",
              "                      [-0.3595,  0.2013,  0.7239,  ...,  0.3491,  0.4144,  0.6512],\n",
              "                      [-0.2949, -0.0168,  0.1736,  ...,  0.2910,  0.1071,  0.0782]])),\n",
              "             ('fc.bias',\n",
              "              tensor([-0.1675, -0.1974,  0.3441,  0.1498,  0.1869,  0.0988,  0.2483, -0.0774,\n",
              "                       0.2838, -0.3619, -0.1302, -0.2100,  0.1648, -0.0998]))])"
            ]
          },
          "metadata": {},
          "execution_count": 72
        }
      ]
    },
    {
      "cell_type": "code",
      "source": [
        "model_2.load_state_dict(checkpoint[\"model_state_dict\"])"
      ],
      "metadata": {
        "colab": {
          "base_uri": "https://localhost:8080/"
        },
        "id": "NrdYhG8jJK9n",
        "outputId": "b8170f2e-08c5-4658-e8e1-2d07ed1853b3"
      },
      "execution_count": 73,
      "outputs": [
        {
          "output_type": "execute_result",
          "data": {
            "text/plain": [
              "<All keys matched successfully>"
            ]
          },
          "metadata": {},
          "execution_count": 73
        }
      ]
    },
    {
      "cell_type": "code",
      "source": [
        "checkpoint[\"optimizer_state_dict\"]"
      ],
      "metadata": {
        "colab": {
          "base_uri": "https://localhost:8080/"
        },
        "id": "_fht10KYJdNp",
        "outputId": "92a2fbf3-9821-41e0-bba2-3ae6716a76d2"
      },
      "execution_count": 74,
      "outputs": [
        {
          "output_type": "execute_result",
          "data": {
            "text/plain": [
              "{'state': {0: {'momentum_buffer': None},\n",
              "  1: {'momentum_buffer': None},\n",
              "  2: {'momentum_buffer': None},\n",
              "  3: {'momentum_buffer': None},\n",
              "  4: {'momentum_buffer': None}},\n",
              " 'param_groups': [{'lr': 0.15,\n",
              "   'momentum': 0,\n",
              "   'dampening': 0,\n",
              "   'weight_decay': 0,\n",
              "   'nesterov': False,\n",
              "   'maximize': False,\n",
              "   'foreach': None,\n",
              "   'differentiable': False,\n",
              "   'params': [0, 1, 2, 3, 4]}]}"
            ]
          },
          "metadata": {},
          "execution_count": 74
        }
      ]
    },
    {
      "cell_type": "code",
      "source": [
        "optimizer_2.load_state_dict(checkpoint[\"optimizer_state_dict\"])"
      ],
      "metadata": {
        "id": "GFQNWpu8JiNq"
      },
      "execution_count": 76,
      "outputs": []
    },
    {
      "cell_type": "code",
      "source": [
        "epoch_2 = checkpoint[\"epoch\"]\n",
        "loss_2 = checkpoint[\"loss\"]"
      ],
      "metadata": {
        "id": "qrn9yGq8JqHE"
      },
      "execution_count": 77,
      "outputs": []
    },
    {
      "cell_type": "code",
      "source": [
        "example_2 = \"The Axolotl  It is unusual among amphibians in that it reaches adulthood without undergoing metamorphosis. Instead of taking to the land, adults remain aquatic and gilled. The species was originally found in several lakes underlying what is now Mexico City \"\n",
        "\n",
        "model_cpu = model_2.to(\"cpu\")\n",
        "\n",
        "DBpedia_label[predict(example_2, text_pipeline)]"
      ],
      "metadata": {
        "colab": {
          "base_uri": "https://localhost:8080/",
          "height": 35
        },
        "id": "j7a1AdrhLRQW",
        "outputId": "952c483e-3d09-4070-e64d-66c4703f7973"
      },
      "execution_count": 78,
      "outputs": [
        {
          "output_type": "execute_result",
          "data": {
            "text/plain": [
              "'Animal'"
            ],
            "application/vnd.google.colaboratory.intrinsic+json": {
              "type": "string"
            }
          },
          "metadata": {},
          "execution_count": 78
        }
      ]
    }
  ],
  "metadata": {
    "accelerator": "GPU",
    "colab": {
      "provenance": [],
      "authorship_tag": "ABX9TyNaUow2WI7YVOd3SUVSPiFM",
      "include_colab_link": true
    },
    "kernelspec": {
      "display_name": "Python 3",
      "name": "python3"
    },
    "language_info": {
      "name": "python"
    },
    "widgets": {
      "application/vnd.jupyter.widget-state+json": {
        "32025a10d4e546cea7abc4b3ab039325": {
          "model_module": "@jupyter-widgets/controls",
          "model_name": "HBoxModel",
          "model_module_version": "1.5.0",
          "state": {
            "_dom_classes": [],
            "_model_module": "@jupyter-widgets/controls",
            "_model_module_version": "1.5.0",
            "_model_name": "HBoxModel",
            "_view_count": null,
            "_view_module": "@jupyter-widgets/controls",
            "_view_module_version": "1.5.0",
            "_view_name": "HBoxView",
            "box_style": "",
            "children": [
              "IPY_MODEL_699f7ac3fb1f4f6dbc806c4d6e4a3334",
              "IPY_MODEL_69bd4affdc1e43e58d298ba3c20385f1",
              "IPY_MODEL_dd79c12f3c2447afbce38b23b309969f"
            ],
            "layout": "IPY_MODEL_38803563bc534f9e9898a2ba5d90fea1"
          }
        },
        "699f7ac3fb1f4f6dbc806c4d6e4a3334": {
          "model_module": "@jupyter-widgets/controls",
          "model_name": "HTMLModel",
          "model_module_version": "1.5.0",
          "state": {
            "_dom_classes": [],
            "_model_module": "@jupyter-widgets/controls",
            "_model_module_version": "1.5.0",
            "_model_name": "HTMLModel",
            "_view_count": null,
            "_view_module": "@jupyter-widgets/controls",
            "_view_module_version": "1.5.0",
            "_view_name": "HTMLView",
            "description": "",
            "description_tooltip": null,
            "layout": "IPY_MODEL_ea2bbbee02ba49deae129f3c39a0a059",
            "placeholder": "​",
            "style": "IPY_MODEL_dd4f2b3faca04e3b8b6fa06e640b7a42",
            "value": "model_checkpoint.pth: 100%"
          }
        },
        "69bd4affdc1e43e58d298ba3c20385f1": {
          "model_module": "@jupyter-widgets/controls",
          "model_name": "FloatProgressModel",
          "model_module_version": "1.5.0",
          "state": {
            "_dom_classes": [],
            "_model_module": "@jupyter-widgets/controls",
            "_model_module_version": "1.5.0",
            "_model_name": "FloatProgressModel",
            "_view_count": null,
            "_view_module": "@jupyter-widgets/controls",
            "_view_module_version": "1.5.0",
            "_view_name": "ProgressView",
            "bar_style": "success",
            "description": "",
            "description_tooltip": null,
            "layout": "IPY_MODEL_669b6e059e9b4e24857bf8976cbd3f85",
            "max": 321209513,
            "min": 0,
            "orientation": "horizontal",
            "style": "IPY_MODEL_b7a9d921a8de4bd4b4ff2303baa5ecdb",
            "value": 321209513
          }
        },
        "dd79c12f3c2447afbce38b23b309969f": {
          "model_module": "@jupyter-widgets/controls",
          "model_name": "HTMLModel",
          "model_module_version": "1.5.0",
          "state": {
            "_dom_classes": [],
            "_model_module": "@jupyter-widgets/controls",
            "_model_module_version": "1.5.0",
            "_model_name": "HTMLModel",
            "_view_count": null,
            "_view_module": "@jupyter-widgets/controls",
            "_view_module_version": "1.5.0",
            "_view_name": "HTMLView",
            "description": "",
            "description_tooltip": null,
            "layout": "IPY_MODEL_c3713c2974e240c58314554c0b523711",
            "placeholder": "​",
            "style": "IPY_MODEL_f68b96c6eac74d149f59c6df41c6b825",
            "value": " 321M/321M [00:19&lt;00:00, 8.76MB/s]"
          }
        },
        "38803563bc534f9e9898a2ba5d90fea1": {
          "model_module": "@jupyter-widgets/base",
          "model_name": "LayoutModel",
          "model_module_version": "1.2.0",
          "state": {
            "_model_module": "@jupyter-widgets/base",
            "_model_module_version": "1.2.0",
            "_model_name": "LayoutModel",
            "_view_count": null,
            "_view_module": "@jupyter-widgets/base",
            "_view_module_version": "1.2.0",
            "_view_name": "LayoutView",
            "align_content": null,
            "align_items": null,
            "align_self": null,
            "border": null,
            "bottom": null,
            "display": null,
            "flex": null,
            "flex_flow": null,
            "grid_area": null,
            "grid_auto_columns": null,
            "grid_auto_flow": null,
            "grid_auto_rows": null,
            "grid_column": null,
            "grid_gap": null,
            "grid_row": null,
            "grid_template_areas": null,
            "grid_template_columns": null,
            "grid_template_rows": null,
            "height": null,
            "justify_content": null,
            "justify_items": null,
            "left": null,
            "margin": null,
            "max_height": null,
            "max_width": null,
            "min_height": null,
            "min_width": null,
            "object_fit": null,
            "object_position": null,
            "order": null,
            "overflow": null,
            "overflow_x": null,
            "overflow_y": null,
            "padding": null,
            "right": null,
            "top": null,
            "visibility": null,
            "width": null
          }
        },
        "ea2bbbee02ba49deae129f3c39a0a059": {
          "model_module": "@jupyter-widgets/base",
          "model_name": "LayoutModel",
          "model_module_version": "1.2.0",
          "state": {
            "_model_module": "@jupyter-widgets/base",
            "_model_module_version": "1.2.0",
            "_model_name": "LayoutModel",
            "_view_count": null,
            "_view_module": "@jupyter-widgets/base",
            "_view_module_version": "1.2.0",
            "_view_name": "LayoutView",
            "align_content": null,
            "align_items": null,
            "align_self": null,
            "border": null,
            "bottom": null,
            "display": null,
            "flex": null,
            "flex_flow": null,
            "grid_area": null,
            "grid_auto_columns": null,
            "grid_auto_flow": null,
            "grid_auto_rows": null,
            "grid_column": null,
            "grid_gap": null,
            "grid_row": null,
            "grid_template_areas": null,
            "grid_template_columns": null,
            "grid_template_rows": null,
            "height": null,
            "justify_content": null,
            "justify_items": null,
            "left": null,
            "margin": null,
            "max_height": null,
            "max_width": null,
            "min_height": null,
            "min_width": null,
            "object_fit": null,
            "object_position": null,
            "order": null,
            "overflow": null,
            "overflow_x": null,
            "overflow_y": null,
            "padding": null,
            "right": null,
            "top": null,
            "visibility": null,
            "width": null
          }
        },
        "dd4f2b3faca04e3b8b6fa06e640b7a42": {
          "model_module": "@jupyter-widgets/controls",
          "model_name": "DescriptionStyleModel",
          "model_module_version": "1.5.0",
          "state": {
            "_model_module": "@jupyter-widgets/controls",
            "_model_module_version": "1.5.0",
            "_model_name": "DescriptionStyleModel",
            "_view_count": null,
            "_view_module": "@jupyter-widgets/base",
            "_view_module_version": "1.2.0",
            "_view_name": "StyleView",
            "description_width": ""
          }
        },
        "669b6e059e9b4e24857bf8976cbd3f85": {
          "model_module": "@jupyter-widgets/base",
          "model_name": "LayoutModel",
          "model_module_version": "1.2.0",
          "state": {
            "_model_module": "@jupyter-widgets/base",
            "_model_module_version": "1.2.0",
            "_model_name": "LayoutModel",
            "_view_count": null,
            "_view_module": "@jupyter-widgets/base",
            "_view_module_version": "1.2.0",
            "_view_name": "LayoutView",
            "align_content": null,
            "align_items": null,
            "align_self": null,
            "border": null,
            "bottom": null,
            "display": null,
            "flex": null,
            "flex_flow": null,
            "grid_area": null,
            "grid_auto_columns": null,
            "grid_auto_flow": null,
            "grid_auto_rows": null,
            "grid_column": null,
            "grid_gap": null,
            "grid_row": null,
            "grid_template_areas": null,
            "grid_template_columns": null,
            "grid_template_rows": null,
            "height": null,
            "justify_content": null,
            "justify_items": null,
            "left": null,
            "margin": null,
            "max_height": null,
            "max_width": null,
            "min_height": null,
            "min_width": null,
            "object_fit": null,
            "object_position": null,
            "order": null,
            "overflow": null,
            "overflow_x": null,
            "overflow_y": null,
            "padding": null,
            "right": null,
            "top": null,
            "visibility": null,
            "width": null
          }
        },
        "b7a9d921a8de4bd4b4ff2303baa5ecdb": {
          "model_module": "@jupyter-widgets/controls",
          "model_name": "ProgressStyleModel",
          "model_module_version": "1.5.0",
          "state": {
            "_model_module": "@jupyter-widgets/controls",
            "_model_module_version": "1.5.0",
            "_model_name": "ProgressStyleModel",
            "_view_count": null,
            "_view_module": "@jupyter-widgets/base",
            "_view_module_version": "1.2.0",
            "_view_name": "StyleView",
            "bar_color": null,
            "description_width": ""
          }
        },
        "c3713c2974e240c58314554c0b523711": {
          "model_module": "@jupyter-widgets/base",
          "model_name": "LayoutModel",
          "model_module_version": "1.2.0",
          "state": {
            "_model_module": "@jupyter-widgets/base",
            "_model_module_version": "1.2.0",
            "_model_name": "LayoutModel",
            "_view_count": null,
            "_view_module": "@jupyter-widgets/base",
            "_view_module_version": "1.2.0",
            "_view_name": "LayoutView",
            "align_content": null,
            "align_items": null,
            "align_self": null,
            "border": null,
            "bottom": null,
            "display": null,
            "flex": null,
            "flex_flow": null,
            "grid_area": null,
            "grid_auto_columns": null,
            "grid_auto_flow": null,
            "grid_auto_rows": null,
            "grid_column": null,
            "grid_gap": null,
            "grid_row": null,
            "grid_template_areas": null,
            "grid_template_columns": null,
            "grid_template_rows": null,
            "height": null,
            "justify_content": null,
            "justify_items": null,
            "left": null,
            "margin": null,
            "max_height": null,
            "max_width": null,
            "min_height": null,
            "min_width": null,
            "object_fit": null,
            "object_position": null,
            "order": null,
            "overflow": null,
            "overflow_x": null,
            "overflow_y": null,
            "padding": null,
            "right": null,
            "top": null,
            "visibility": null,
            "width": null
          }
        },
        "f68b96c6eac74d149f59c6df41c6b825": {
          "model_module": "@jupyter-widgets/controls",
          "model_name": "DescriptionStyleModel",
          "model_module_version": "1.5.0",
          "state": {
            "_model_module": "@jupyter-widgets/controls",
            "_model_module_version": "1.5.0",
            "_model_name": "DescriptionStyleModel",
            "_view_count": null,
            "_view_module": "@jupyter-widgets/base",
            "_view_module_version": "1.2.0",
            "_view_name": "StyleView",
            "description_width": ""
          }
        },
        "5943bd0e40d64be4ab15bc3ed71ca266": {
          "model_module": "@jupyter-widgets/controls",
          "model_name": "HBoxModel",
          "model_module_version": "1.5.0",
          "state": {
            "_dom_classes": [],
            "_model_module": "@jupyter-widgets/controls",
            "_model_module_version": "1.5.0",
            "_model_name": "HBoxModel",
            "_view_count": null,
            "_view_module": "@jupyter-widgets/controls",
            "_view_module_version": "1.5.0",
            "_view_name": "HBoxView",
            "box_style": "",
            "children": [
              "IPY_MODEL_e395a5fb6512445fb549b03983158867",
              "IPY_MODEL_29025f82b8044a64b4b6eaa3b7907dad",
              "IPY_MODEL_20023af14ba548549a75e24afad596f8"
            ],
            "layout": "IPY_MODEL_c5c9c292944a4fa394fbe9d589f9d6a1"
          }
        },
        "e395a5fb6512445fb549b03983158867": {
          "model_module": "@jupyter-widgets/controls",
          "model_name": "HTMLModel",
          "model_module_version": "1.5.0",
          "state": {
            "_dom_classes": [],
            "_model_module": "@jupyter-widgets/controls",
            "_model_module_version": "1.5.0",
            "_model_name": "HTMLModel",
            "_view_count": null,
            "_view_module": "@jupyter-widgets/controls",
            "_view_module_version": "1.5.0",
            "_view_name": "HTMLView",
            "description": "",
            "description_tooltip": null,
            "layout": "IPY_MODEL_f1df7331abe244eeab9a937fe4167527",
            "placeholder": "​",
            "style": "IPY_MODEL_e7c7771950664476b734c96be5a67bb5",
            "value": "Downloading model_checkpoint.pth: 100%"
          }
        },
        "29025f82b8044a64b4b6eaa3b7907dad": {
          "model_module": "@jupyter-widgets/controls",
          "model_name": "FloatProgressModel",
          "model_module_version": "1.5.0",
          "state": {
            "_dom_classes": [],
            "_model_module": "@jupyter-widgets/controls",
            "_model_module_version": "1.5.0",
            "_model_name": "FloatProgressModel",
            "_view_count": null,
            "_view_module": "@jupyter-widgets/controls",
            "_view_module_version": "1.5.0",
            "_view_name": "ProgressView",
            "bar_style": "success",
            "description": "",
            "description_tooltip": null,
            "layout": "IPY_MODEL_bb284ad3dce847e5b4a09c1e49298635",
            "max": 321209513,
            "min": 0,
            "orientation": "horizontal",
            "style": "IPY_MODEL_f6d0b319dfb34df8af8d6e4ba38219ad",
            "value": 321209513
          }
        },
        "20023af14ba548549a75e24afad596f8": {
          "model_module": "@jupyter-widgets/controls",
          "model_name": "HTMLModel",
          "model_module_version": "1.5.0",
          "state": {
            "_dom_classes": [],
            "_model_module": "@jupyter-widgets/controls",
            "_model_module_version": "1.5.0",
            "_model_name": "HTMLModel",
            "_view_count": null,
            "_view_module": "@jupyter-widgets/controls",
            "_view_module_version": "1.5.0",
            "_view_name": "HTMLView",
            "description": "",
            "description_tooltip": null,
            "layout": "IPY_MODEL_5655c643077844f09dd97891c2b17fb7",
            "placeholder": "​",
            "style": "IPY_MODEL_75401555a76946ddb90eaa14eee210d3",
            "value": " 321M/321M [00:08&lt;00:00, 43.2MB/s]"
          }
        },
        "c5c9c292944a4fa394fbe9d589f9d6a1": {
          "model_module": "@jupyter-widgets/base",
          "model_name": "LayoutModel",
          "model_module_version": "1.2.0",
          "state": {
            "_model_module": "@jupyter-widgets/base",
            "_model_module_version": "1.2.0",
            "_model_name": "LayoutModel",
            "_view_count": null,
            "_view_module": "@jupyter-widgets/base",
            "_view_module_version": "1.2.0",
            "_view_name": "LayoutView",
            "align_content": null,
            "align_items": null,
            "align_self": null,
            "border": null,
            "bottom": null,
            "display": null,
            "flex": null,
            "flex_flow": null,
            "grid_area": null,
            "grid_auto_columns": null,
            "grid_auto_flow": null,
            "grid_auto_rows": null,
            "grid_column": null,
            "grid_gap": null,
            "grid_row": null,
            "grid_template_areas": null,
            "grid_template_columns": null,
            "grid_template_rows": null,
            "height": null,
            "justify_content": null,
            "justify_items": null,
            "left": null,
            "margin": null,
            "max_height": null,
            "max_width": null,
            "min_height": null,
            "min_width": null,
            "object_fit": null,
            "object_position": null,
            "order": null,
            "overflow": null,
            "overflow_x": null,
            "overflow_y": null,
            "padding": null,
            "right": null,
            "top": null,
            "visibility": null,
            "width": null
          }
        },
        "f1df7331abe244eeab9a937fe4167527": {
          "model_module": "@jupyter-widgets/base",
          "model_name": "LayoutModel",
          "model_module_version": "1.2.0",
          "state": {
            "_model_module": "@jupyter-widgets/base",
            "_model_module_version": "1.2.0",
            "_model_name": "LayoutModel",
            "_view_count": null,
            "_view_module": "@jupyter-widgets/base",
            "_view_module_version": "1.2.0",
            "_view_name": "LayoutView",
            "align_content": null,
            "align_items": null,
            "align_self": null,
            "border": null,
            "bottom": null,
            "display": null,
            "flex": null,
            "flex_flow": null,
            "grid_area": null,
            "grid_auto_columns": null,
            "grid_auto_flow": null,
            "grid_auto_rows": null,
            "grid_column": null,
            "grid_gap": null,
            "grid_row": null,
            "grid_template_areas": null,
            "grid_template_columns": null,
            "grid_template_rows": null,
            "height": null,
            "justify_content": null,
            "justify_items": null,
            "left": null,
            "margin": null,
            "max_height": null,
            "max_width": null,
            "min_height": null,
            "min_width": null,
            "object_fit": null,
            "object_position": null,
            "order": null,
            "overflow": null,
            "overflow_x": null,
            "overflow_y": null,
            "padding": null,
            "right": null,
            "top": null,
            "visibility": null,
            "width": null
          }
        },
        "e7c7771950664476b734c96be5a67bb5": {
          "model_module": "@jupyter-widgets/controls",
          "model_name": "DescriptionStyleModel",
          "model_module_version": "1.5.0",
          "state": {
            "_model_module": "@jupyter-widgets/controls",
            "_model_module_version": "1.5.0",
            "_model_name": "DescriptionStyleModel",
            "_view_count": null,
            "_view_module": "@jupyter-widgets/base",
            "_view_module_version": "1.2.0",
            "_view_name": "StyleView",
            "description_width": ""
          }
        },
        "bb284ad3dce847e5b4a09c1e49298635": {
          "model_module": "@jupyter-widgets/base",
          "model_name": "LayoutModel",
          "model_module_version": "1.2.0",
          "state": {
            "_model_module": "@jupyter-widgets/base",
            "_model_module_version": "1.2.0",
            "_model_name": "LayoutModel",
            "_view_count": null,
            "_view_module": "@jupyter-widgets/base",
            "_view_module_version": "1.2.0",
            "_view_name": "LayoutView",
            "align_content": null,
            "align_items": null,
            "align_self": null,
            "border": null,
            "bottom": null,
            "display": null,
            "flex": null,
            "flex_flow": null,
            "grid_area": null,
            "grid_auto_columns": null,
            "grid_auto_flow": null,
            "grid_auto_rows": null,
            "grid_column": null,
            "grid_gap": null,
            "grid_row": null,
            "grid_template_areas": null,
            "grid_template_columns": null,
            "grid_template_rows": null,
            "height": null,
            "justify_content": null,
            "justify_items": null,
            "left": null,
            "margin": null,
            "max_height": null,
            "max_width": null,
            "min_height": null,
            "min_width": null,
            "object_fit": null,
            "object_position": null,
            "order": null,
            "overflow": null,
            "overflow_x": null,
            "overflow_y": null,
            "padding": null,
            "right": null,
            "top": null,
            "visibility": null,
            "width": null
          }
        },
        "f6d0b319dfb34df8af8d6e4ba38219ad": {
          "model_module": "@jupyter-widgets/controls",
          "model_name": "ProgressStyleModel",
          "model_module_version": "1.5.0",
          "state": {
            "_model_module": "@jupyter-widgets/controls",
            "_model_module_version": "1.5.0",
            "_model_name": "ProgressStyleModel",
            "_view_count": null,
            "_view_module": "@jupyter-widgets/base",
            "_view_module_version": "1.2.0",
            "_view_name": "StyleView",
            "bar_color": null,
            "description_width": ""
          }
        },
        "5655c643077844f09dd97891c2b17fb7": {
          "model_module": "@jupyter-widgets/base",
          "model_name": "LayoutModel",
          "model_module_version": "1.2.0",
          "state": {
            "_model_module": "@jupyter-widgets/base",
            "_model_module_version": "1.2.0",
            "_model_name": "LayoutModel",
            "_view_count": null,
            "_view_module": "@jupyter-widgets/base",
            "_view_module_version": "1.2.0",
            "_view_name": "LayoutView",
            "align_content": null,
            "align_items": null,
            "align_self": null,
            "border": null,
            "bottom": null,
            "display": null,
            "flex": null,
            "flex_flow": null,
            "grid_area": null,
            "grid_auto_columns": null,
            "grid_auto_flow": null,
            "grid_auto_rows": null,
            "grid_column": null,
            "grid_gap": null,
            "grid_row": null,
            "grid_template_areas": null,
            "grid_template_columns": null,
            "grid_template_rows": null,
            "height": null,
            "justify_content": null,
            "justify_items": null,
            "left": null,
            "margin": null,
            "max_height": null,
            "max_width": null,
            "min_height": null,
            "min_width": null,
            "object_fit": null,
            "object_position": null,
            "order": null,
            "overflow": null,
            "overflow_x": null,
            "overflow_y": null,
            "padding": null,
            "right": null,
            "top": null,
            "visibility": null,
            "width": null
          }
        },
        "75401555a76946ddb90eaa14eee210d3": {
          "model_module": "@jupyter-widgets/controls",
          "model_name": "DescriptionStyleModel",
          "model_module_version": "1.5.0",
          "state": {
            "_model_module": "@jupyter-widgets/controls",
            "_model_module_version": "1.5.0",
            "_model_name": "DescriptionStyleModel",
            "_view_count": null,
            "_view_module": "@jupyter-widgets/base",
            "_view_module_version": "1.2.0",
            "_view_name": "StyleView",
            "description_width": ""
          }
        }
      }
    }
  },
  "nbformat": 4,
  "nbformat_minor": 0
}