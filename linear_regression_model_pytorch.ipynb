{
  "nbformat": 4,
  "nbformat_minor": 0,
  "metadata": {
    "colab": {
      "provenance": [],
      "authorship_tag": "ABX9TyOc7lcEKJjg9bih14bqeUuW",
      "include_colab_link": true
    },
    "kernelspec": {
      "name": "python3",
      "display_name": "Python 3"
    },
    "language_info": {
      "name": "python"
    }
  },
  "cells": [
    {
      "cell_type": "markdown",
      "metadata": {
        "id": "view-in-github",
        "colab_type": "text"
      },
      "source": [
        "<a href=\"https://colab.research.google.com/github/LennyRBriones/pytorch/blob/main/linear_regression_model_pytorch.ipynb\" target=\"_parent\"><img src=\"https://colab.research.google.com/assets/colab-badge.svg\" alt=\"Open In Colab\"/></a>"
      ]
    },
    {
      "cell_type": "markdown",
      "source": [
        "##Libraries"
      ],
      "metadata": {
        "id": "lj8EBv7JVfPV"
      }
    },
    {
      "cell_type": "code",
      "execution_count": null,
      "metadata": {
        "colab": {
          "base_uri": "https://localhost:8080/",
          "height": 36
        },
        "id": "XUnkU2LjVQES",
        "outputId": "4319e656-6fdf-4222-df5b-a6f434ce9ece"
      },
      "outputs": [
        {
          "output_type": "execute_result",
          "data": {
            "text/plain": [
              "'2.0.1+cu118'"
            ],
            "application/vnd.google.colaboratory.intrinsic+json": {
              "type": "string"
            }
          },
          "metadata": {},
          "execution_count": 1
        }
      ],
      "source": [
        "import torch\n",
        "from torch import nn\n",
        "import matplotlib.pyplot as plt\n",
        "\n",
        "#Which version are we using\n",
        "torch.__version__"
      ]
    },
    {
      "cell_type": "markdown",
      "source": [
        "## Data Generating"
      ],
      "metadata": {
        "id": "4XeSm1fYWio-"
      }
    },
    {
      "cell_type": "markdown",
      "source": [
        "Here we´re creating an unidimentional tensor called \"X\" containing multiple values, using the function `arrange`\n",
        "\n",
        "The function `unsqueeze` is being use to add an aditional dimention to the tensor.\n",
        "\n",
        "In other words, this code creates a tensor with column containing a range of values"
      ],
      "metadata": {
        "id": "hje0Ox6mWrCm"
      }
    },
    {
      "cell_type": "code",
      "source": [
        "# generating new parameters\n",
        "\n",
        "volume = 0.8\n",
        "bias = 0.2\n",
        "\n",
        "# Creating data\n",
        "\n",
        "start = 0\n",
        "final = 1\n",
        "step = 0.025\n",
        "\n",
        "x = torch.arange(start, final, step).unsqueeze(dim=1)\n",
        "print(f\"the shape of x: {x.shape}\")\n",
        "y = volume * x + bias\n",
        "print(f\"The shape of y: {y.shape}\" )\n",
        "\n",
        "x[:10], y[:10]\n",
        "# getting values until the 10th"
      ],
      "metadata": {
        "colab": {
          "base_uri": "https://localhost:8080/"
        },
        "id": "9DTn70xzVz2Z",
        "outputId": "b117e7b0-05a3-4689-89de-6fc2e7743150"
      },
      "execution_count": null,
      "outputs": [
        {
          "output_type": "stream",
          "name": "stdout",
          "text": [
            "the shape of x: torch.Size([40, 1])\n",
            "The shape of y: torch.Size([40, 1])\n"
          ]
        },
        {
          "output_type": "execute_result",
          "data": {
            "text/plain": [
              "(tensor([[0.0000],\n",
              "         [0.0250],\n",
              "         [0.0500],\n",
              "         [0.0750],\n",
              "         [0.1000],\n",
              "         [0.1250],\n",
              "         [0.1500],\n",
              "         [0.1750],\n",
              "         [0.2000],\n",
              "         [0.2250]]),\n",
              " tensor([[0.2000],\n",
              "         [0.2200],\n",
              "         [0.2400],\n",
              "         [0.2600],\n",
              "         [0.2800],\n",
              "         [0.3000],\n",
              "         [0.3200],\n",
              "         [0.3400],\n",
              "         [0.3600],\n",
              "         [0.3800]]))"
            ]
          },
          "metadata": {},
          "execution_count": 2
        }
      ]
    },
    {
      "cell_type": "markdown",
      "source": [
        "## Split Data"
      ],
      "metadata": {
        "id": "NO-QvJVTY9RB"
      }
    },
    {
      "cell_type": "markdown",
      "source": [
        "\n",
        "\n",
        "*   **Train Data**: The model learn with this data\n",
        "*   **Test Data**: The model evaluate using this data to know how much did learn\n",
        "\n"
      ],
      "metadata": {
        "id": "vQfhOCnpZDy1"
      }
    },
    {
      "cell_type": "code",
      "source": [
        "train_data = int(0.7 * len(x)) # Get the 70% of the data for training porpuse\n",
        "\n",
        "x_train, y_train = x[:train_data], y[:train_data]\n",
        "# Get the data from axis X & axis Y from start to train split\n",
        "\n",
        "x_test, y_test = x[train_data:], y[train_data:]"
      ],
      "metadata": {
        "id": "7uGHK8sCYz9m"
      },
      "execution_count": null,
      "outputs": []
    },
    {
      "cell_type": "code",
      "source": [
        "len(x_train), len(x_test)"
      ],
      "metadata": {
        "colab": {
          "base_uri": "https://localhost:8080/"
        },
        "id": "Q-L-CnT7fl77",
        "outputId": "f4db05b9-1750-4fba-efba-050ec6bbe87c"
      },
      "execution_count": null,
      "outputs": [
        {
          "output_type": "execute_result",
          "data": {
            "text/plain": [
              "(28, 12)"
            ]
          },
          "metadata": {},
          "execution_count": 4
        }
      ]
    },
    {
      "cell_type": "code",
      "source": [
        "def plot_prediction(data_train = x_train,\n",
        "                    label_train = y_train,\n",
        "                    data_test = x_test,\n",
        "                    label_test = y_test,\n",
        "                    predictions=None):\n",
        "\n",
        "    plt.figure(figsize=(10, 10))\n",
        "\n",
        "    # trace the data train in Green\n",
        "    plt.scatter(data_train, label_train, c=\"g\", s =6, label =\"Train data\")\n",
        "\n",
        "    # trace the data train in Yellow\n",
        "    plt.scatter(data_test, label_test, c=\"y\", s =6, label =\"Test data\")\n",
        "\n",
        "    if predictions is not None:\n",
        "      # Trace the prediction in red\n",
        "      plt.scatter(data_test, predictions, c=\"r\", s=6, label=\"Predictions\")\n",
        "\n",
        "    #Text\n",
        "    plt.legend(prop={\"size\": 12})"
      ],
      "metadata": {
        "id": "ogWxPbfTgowX"
      },
      "execution_count": null,
      "outputs": []
    },
    {
      "cell_type": "code",
      "source": [
        "plot_prediction();"
      ],
      "metadata": {
        "colab": {
          "base_uri": "https://localhost:8080/",
          "height": 652
        },
        "id": "vFXnFpWWzSLu",
        "outputId": "c8919660-150d-4981-e5a4-41b73b22dd37"
      },
      "execution_count": null,
      "outputs": [
        {
          "output_type": "display_data",
          "data": {
            "text/plain": [
              "<Figure size 1000x1000 with 1 Axes>"
            ],
            "image/png": "[encoded data removed]"
          },
          "metadata": {}
        }
      ]
    },
    {
      "cell_type": "markdown",
      "source": [
        "# Model Bulding"
      ],
      "metadata": {
        "id": "raKRVa8-1eLd"
      }
    },
    {
      "cell_type": "code",
      "source": [
        "# Creating the model class to lineal regression\n",
        "\n",
        "class LinearRegressionModel(nn.Module):\n",
        "  def __init__(self): #initialazing a nn Model\n",
        "    super().__init__()\n",
        "    ## first layer volume\n",
        "    self.volume = nn.Parameter(torch.rand(1, dtype=torch.float), requires_grad=True)\n",
        "                     #Parameters means a value that can be trainable\n",
        "\n",
        "    self.bias = nn.Parameter(torch.randn(1, dtype=torch.float), requires_grad=True)\n",
        "\n",
        "# Realize the math of the model\n",
        "  def forward(self, x: torch.Tensor) -> torch.Tensor:\n",
        "    return self.volume * x + self.bias"
      ],
      "metadata": {
        "id": "1CM878t90d52"
      },
      "execution_count": null,
      "outputs": []
    },
    {
      "cell_type": "markdown",
      "source": [
        "`torch.manual_seed(42)` this command generate a seed that stores random numbers but always the same if we indicate the number of the seed.\n",
        "This is a good question way to keep results & make experiments in machine learning"
      ],
      "metadata": {
        "id": "zEAPv4vu9Rog"
      }
    },
    {
      "cell_type": "code",
      "source": [
        "torch.manual_seed(42)\n",
        "\n",
        "model_1 = LinearRegressionModel()"
      ],
      "metadata": {
        "id": "hb0tmBqu7Qim"
      },
      "execution_count": null,
      "outputs": []
    },
    {
      "cell_type": "code",
      "source": [
        "model_1"
      ],
      "metadata": {
        "colab": {
          "base_uri": "https://localhost:8080/"
        },
        "id": "pA69kCJ096oH",
        "outputId": "fa6255b3-556d-4433-bbe6-301d8415b07a"
      },
      "execution_count": null,
      "outputs": [
        {
          "output_type": "execute_result",
          "data": {
            "text/plain": [
              "LinearRegressionModel()"
            ]
          },
          "metadata": {},
          "execution_count": 9
        }
      ]
    },
    {
      "cell_type": "markdown",
      "source": [
        "`state.dict()` return the dictionary that contains the values of all trainable parameters, being useful to save and load models"
      ],
      "metadata": {
        "id": "ibFZX5yf-Pgw"
      }
    },
    {
      "cell_type": "code",
      "source": [
        "model_1.state_dict()"
      ],
      "metadata": {
        "colab": {
          "base_uri": "https://localhost:8080/"
        },
        "id": "Kf2ocao_-Ia3",
        "outputId": "e64e4d1c-3fef-423b-9120-a1c2d083afc2"
      },
      "execution_count": null,
      "outputs": [
        {
          "output_type": "execute_result",
          "data": {
            "text/plain": [
              "OrderedDict([('volume', tensor([0.8823])), ('bias', tensor([-0.6382]))])"
            ]
          },
          "metadata": {},
          "execution_count": 10
        }
      ]
    },
    {
      "cell_type": "markdown",
      "source": [
        "## Predictions using `torch.inference_mode()`"
      ],
      "metadata": {
        "id": "AFUXsBxS_H1N"
      }
    },
    {
      "cell_type": "code",
      "source": [
        "# Making predictions in the model\n",
        "\n",
        "with torch.inference_mode():\n",
        "  y_prediction = model_1(x_test)"
      ],
      "metadata": {
        "id": "6wPo5uQa-gMD"
      },
      "execution_count": null,
      "outputs": []
    },
    {
      "cell_type": "markdown",
      "source": [
        "`torch.inference_mode` is used to make predictions, also turns of some options like gradient following (necessary just for training, no in predictions)"
      ],
      "metadata": {
        "id": "TKXEZkVZ_uoX"
      }
    },
    {
      "cell_type": "code",
      "source": [
        "y_prediction"
      ],
      "metadata": {
        "colab": {
          "base_uri": "https://localhost:8080/"
        },
        "id": "uBPBejYk_fgb",
        "outputId": "999ab77a-12e8-41ed-acd2-7bad06fc8505"
      },
      "execution_count": null,
      "outputs": [
        {
          "output_type": "execute_result",
          "data": {
            "text/plain": [
              "tensor([[-0.0206],\n",
              "        [ 0.0015],\n",
              "        [ 0.0235],\n",
              "        [ 0.0456],\n",
              "        [ 0.0677],\n",
              "        [ 0.0897],\n",
              "        [ 0.1118],\n",
              "        [ 0.1338],\n",
              "        [ 0.1559],\n",
              "        [ 0.1779],\n",
              "        [ 0.2000],\n",
              "        [ 0.2221]])"
            ]
          },
          "metadata": {},
          "execution_count": 12
        }
      ]
    },
    {
      "cell_type": "code",
      "source": [
        "plot_prediction(predictions = y_prediction)"
      ],
      "metadata": {
        "colab": {
          "base_uri": "https://localhost:8080/",
          "height": 652
        },
        "id": "psRov9EuAUPr",
        "outputId": "12fd9d37-17dd-4b8e-e2da-bc3f5e7966ce"
      },
      "execution_count": null,
      "outputs": [
        {
          "output_type": "display_data",
          "data": {
            "text/plain": [
              "<Figure size 1000x1000 with 1 Axes>"
            ],
            "image/png": "[encoded data removed]"
          },
          "metadata": {}
        }
      ]
    },
    {
      "cell_type": "markdown",
      "source": [
        "As we can see, it's just a test to see how to make predictions, here is neccesary train the model to make the true predictions"
      ],
      "metadata": {
        "id": "J39eENciAjn6"
      }
    },
    {
      "cell_type": "markdown",
      "source": [
        "## Loss Function"
      ],
      "metadata": {
        "id": "sURy4zrWV-Pb"
      }
    },
    {
      "cell_type": "code",
      "source": [
        "# Loss function\n",
        "loss_fn = torch.nn.L1Loss()\n",
        "\n",
        "# Optimizer\n",
        "\n",
        "optimizer = torch.optim.SGD(params=model_1.parameters(), lr=.01 )\n"
      ],
      "metadata": {
        "id": "YZ9-Z2L6AcpL"
      },
      "execution_count": null,
      "outputs": []
    },
    {
      "cell_type": "code",
      "source": [
        "optimizer"
      ],
      "metadata": {
        "colab": {
          "base_uri": "https://localhost:8080/"
        },
        "id": "IoQ-DfbTW3_8",
        "outputId": "c6b432d2-d5e6-4d13-cac1-f717cf8a4fc6"
      },
      "execution_count": null,
      "outputs": [
        {
          "output_type": "execute_result",
          "data": {
            "text/plain": [
              "SGD (\n",
              "Parameter Group 0\n",
              "    dampening: 0\n",
              "    differentiable: False\n",
              "    foreach: None\n",
              "    lr: 0.01\n",
              "    maximize: False\n",
              "    momentum: 0\n",
              "    nesterov: False\n",
              "    weight_decay: 0\n",
              ")"
            ]
          },
          "metadata": {},
          "execution_count": 15
        }
      ]
    },
    {
      "cell_type": "code",
      "source": [
        "model_1.parameters()"
      ],
      "metadata": {
        "colab": {
          "base_uri": "https://localhost:8080/"
        },
        "id": "XoRRHmjdW5jZ",
        "outputId": "07c10aee-7b87-47c8-c4ff-1c61420d94ab"
      },
      "execution_count": null,
      "outputs": [
        {
          "output_type": "execute_result",
          "data": {
            "text/plain": [
              "<generator object Module.parameters at 0x7fe8160f6960>"
            ]
          },
          "metadata": {},
          "execution_count": 16
        }
      ]
    },
    {
      "cell_type": "code",
      "source": [
        "loss_fn"
      ],
      "metadata": {
        "colab": {
          "base_uri": "https://localhost:8080/"
        },
        "id": "dehN9wfHW9cJ",
        "outputId": "d456db7e-0a3a-4f04-e053-8523c06a423f"
      },
      "execution_count": null,
      "outputs": [
        {
          "output_type": "execute_result",
          "data": {
            "text/plain": [
              "L1Loss()"
            ]
          },
          "metadata": {},
          "execution_count": 17
        }
      ]
    },
    {
      "cell_type": "code",
      "source": [
        "torch.manual_seed(42)\n",
        "\n",
        "# The number of epochs that the model will run\n",
        "epochs = 100\n",
        "\n",
        "# Empty lists to follow the model\n",
        "training_loss = []\n",
        "test_loss = []\n",
        "\n",
        "for epoch in range(epochs):\n",
        "  ## Training\n",
        "\n",
        "  # Taking the model to train\n",
        "  model_1.train()\n",
        "\n",
        "  # 1.Using Fordward in the data\n",
        "  y_prediction = model_1(x_train)\n",
        "\n",
        "  # 2. Getting te value off the loss (difference beetween predictions and model)\n",
        "  loss = loss_fn(y_prediction, y_train)\n",
        "\n",
        "  # 3. Optimizer gradient\n",
        "  optimizer.zero_grad()\n",
        "\n",
        "\n",
        "  # 4. Loss Backward\n",
        "  loss.backward()\n",
        "\n",
        "  # 5. Progress optimizer\n",
        "  optimizer.step()\n",
        "\n",
        "  ### Test Function\n",
        "\n",
        "  # Model in mode evaluation\n",
        "\n",
        "  model_1.eval()\n",
        "\n",
        "  with torch.inference_mode():\n",
        "\n",
        "    # 1 Resend test_data\n",
        "    test_prediction = model_1(x_test)\n",
        "\n",
        "    # 2 Getting the loss in test data\n",
        "    loss_test = loss_fn(test_prediction, y_test.type(torch.float))\n",
        "\n",
        "    # Print the following\n",
        "    if epoch % 10 == 0:\n",
        "      training_loss.append(loss.detach().numpy())\n",
        "                              #detach allows transform to numpy\n",
        "      test_loss.append(loss_test.detach().numpy())\n",
        "      print(f\"Epoch: {epoch} | Training loss: {loss} | Test loss {loss_test} \")"
      ],
      "metadata": {
        "colab": {
          "base_uri": "https://localhost:8080/"
        },
        "id": "mJhDdASCXAIo",
        "outputId": "d3189665-495d-451d-fda6-aea2f6b2e202"
      },
      "execution_count": null,
      "outputs": [
        {
          "output_type": "stream",
          "name": "stdout",
          "text": [
            "Epoch: 0 | Training loss: 0.8103882670402527 | Test loss 0.7564272284507751 \n",
            "Epoch: 10 | Training loss: 0.6989977955818176 | Test loss 0.6281616687774658 \n",
            "Epoch: 20 | Training loss: 0.5876073241233826 | Test loss 0.49989619851112366 \n",
            "Epoch: 30 | Training loss: 0.4762168228626251 | Test loss 0.3716306984424591 \n",
            "Epoch: 40 | Training loss: 0.36482614278793335 | Test loss 0.2433648556470871 \n",
            "Epoch: 50 | Training loss: 0.25343528389930725 | Test loss 0.11509871482849121 \n",
            "Epoch: 60 | Training loss: 0.14204449951648712 | Test loss 0.023598840460181236 \n",
            "Epoch: 70 | Training loss: 0.06647782027721405 | Test loss 0.1067611575126648 \n",
            "Epoch: 80 | Training loss: 0.055072374641895294 | Test loss 0.1320054680109024 \n",
            "Epoch: 90 | Training loss: 0.05138111859560013 | Test loss 0.13504832983016968 \n"
          ]
        }
      ]
    },
    {
      "cell_type": "code",
      "source": [
        "# Tracing graph\n",
        "plt.plot(training_loss, label=\"Training Loss\")\n",
        "plt.plot(test_loss, label=\"Test Loss\")\n",
        "plt.ylabel(\"Loss\")\n",
        "plt.xlabel(\"Epoch\")\n",
        "plt.legend()"
      ],
      "metadata": {
        "colab": {
          "base_uri": "https://localhost:8080/",
          "height": 466
        },
        "id": "fJhAPI-al0aC",
        "outputId": "b41500d5-69f2-425b-b812-487ed83f6379"
      },
      "execution_count": null,
      "outputs": [
        {
          "output_type": "execute_result",
          "data": {
            "text/plain": [
              "<matplotlib.legend.Legend at 0x7fe8db8da3b0>"
            ]
          },
          "metadata": {},
          "execution_count": 19
        },
        {
          "output_type": "display_data",
          "data": {
            "text/plain": [
              "<Figure size 640x480 with 1 Axes>"
            ],
            "image/png": "[encoded data removed]"
          },
          "metadata": {}
        }
      ]
    },
    {
      "cell_type": "markdown",
      "source": [
        "## Inference in evaluate mode"
      ],
      "metadata": {
        "id": "paggXl7YqbG8"
      }
    },
    {
      "cell_type": "code",
      "source": [
        "model_1.eval()\n",
        "\n",
        "with torch.inference_mode():\n",
        "\n",
        "# This is just in case we are using cuda\n",
        "#  model_1.to(device)\n",
        "#  x_test = x_test.to(device)\n",
        "   y_prediction = model_1(x_test)"
      ],
      "metadata": {
        "id": "nfrymO7Lqa2d"
      },
      "execution_count": null,
      "outputs": []
    },
    {
      "cell_type": "code",
      "source": [
        "y_prediction"
      ],
      "metadata": {
        "colab": {
          "base_uri": "https://localhost:8080/"
        },
        "id": "DFJsBVogrKwT",
        "outputId": "059fa44c-d2ca-4ebd-b80f-8b82df14083b"
      },
      "execution_count": null,
      "outputs": [
        {
          "output_type": "execute_result",
          "data": {
            "text/plain": [
              "tensor([[0.8522],\n",
              "        [0.8791],\n",
              "        [0.9060],\n",
              "        [0.9329],\n",
              "        [0.9598],\n",
              "        [0.9867],\n",
              "        [1.0136],\n",
              "        [1.0405],\n",
              "        [1.0674],\n",
              "        [1.0943],\n",
              "        [1.1212],\n",
              "        [1.1481]])"
            ]
          },
          "metadata": {},
          "execution_count": 21
        }
      ]
    },
    {
      "cell_type": "code",
      "source": [
        "plot_prediction(predictions = y_prediction)"
      ],
      "metadata": {
        "colab": {
          "base_uri": "https://localhost:8080/",
          "height": 652
        },
        "id": "MEOS3NFkrM6I",
        "outputId": "2a3f0561-cdf8-493d-dd80-78848451668d"
      },
      "execution_count": null,
      "outputs": [
        {
          "output_type": "display_data",
          "data": {
            "text/plain": [
              "<Figure size 1000x1000 with 1 Axes>"
            ],
            "image/png": "[encoded data removed]"
          },
          "metadata": {}
        }
      ]
    }
  ]
}